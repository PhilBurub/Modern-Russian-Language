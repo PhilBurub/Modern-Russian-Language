{
 "cells": [
  {
   "cell_type": "code",
   "execution_count": 1,
   "id": "81d82070",
   "metadata": {},
   "outputs": [],
   "source": [
    "import numpy as np\n",
    "import pandas as pd\n",
    "from sklearn.preprocessing import MinMaxScaler"
   ]
  },
  {
   "cell_type": "markdown",
   "id": "ee16b4f7",
   "metadata": {},
   "source": [
    "## Подготовка данных: общие подсчёты"
   ]
  },
  {
   "cell_type": "code",
   "execution_count": 2,
   "id": "0df2df27",
   "metadata": {},
   "outputs": [],
   "source": [
    "table = '''Префиксальный компонент\tКвадратное отклонение\tLogDice-метрика\tОтносительная частота\n",
    "на-\t26195.27 (+)\t-8.2\t5.56%\n",
    "до-\t5224.4 (+)\t-8.2\t1.67%\n",
    "за-\t798.66 (+)\t-8.6\t4.04%\n",
    "с-\t1280.74 (-)\t-11.0\t4.56%\n",
    "пере-\t1409.32 (-)\t-9.1\t0.82%'''"
   ]
  },
  {
   "cell_type": "code",
   "execution_count": 3,
   "id": "87b8cdab",
   "metadata": {},
   "outputs": [],
   "source": [
    "data_gen_t = pd.DataFrame([row.split('\\t') for row in table.split('\\n')[1:]],\\\n",
    "                        columns=[table.split('\\n')[0].split('\\t')])"
   ]
  },
  {
   "cell_type": "code",
   "execution_count": 4,
   "id": "e56b4da7",
   "metadata": {},
   "outputs": [],
   "source": [
    "data_gen = data_gen_t"
   ]
  },
  {
   "cell_type": "code",
   "execution_count": 5,
   "id": "84881ae2",
   "metadata": {},
   "outputs": [],
   "source": [
    "data_gen['Квадратное отклонение'] = data_gen['Квадратное отклонение'].applymap(\\\n",
    "            lambda x: -1 * float(x.split()[0]) if '-' in x.split()[1] else float(x.split()[0]))\n",
    "data_gen['LogDice-метрика'] = data_gen['LogDice-метрика'].applymap(lambda x: float(x))\n",
    "data_gen['Относительная частота'] = data_gen['Относительная частота'].applymap(lambda x:\\\n",
    "                                                                               float(x[:-1]))\n",
    "data_gen=data_gen[['Квадратное отклонение', 'LogDice-метрика', 'Относительная частота']].to_numpy()"
   ]
  },
  {
   "cell_type": "code",
   "execution_count": 6,
   "id": "ebb00a7d",
   "metadata": {},
   "outputs": [],
   "source": [
    "scaler = MinMaxScaler()\n",
    "data_gen = scaler.fit_transform(data_gen)"
   ]
  },
  {
   "cell_type": "markdown",
   "id": "74055c25",
   "metadata": {},
   "source": [
    "## Подсчёт"
   ]
  },
  {
   "cell_type": "markdown",
   "id": "e27e4d89",
   "metadata": {},
   "source": [
    "### Средние"
   ]
  },
  {
   "cell_type": "markdown",
   "id": "7be93339",
   "metadata": {},
   "source": [
    "#### Арифметическое"
   ]
  },
  {
   "cell_type": "code",
   "execution_count": 7,
   "id": "1063f858",
   "metadata": {},
   "outputs": [
    {
     "data": {
      "text/plain": [
       "array([1.        , 0.47321237, 0.53881791, 0.26456249, 0.22619048])"
      ]
     },
     "execution_count": 7,
     "metadata": {},
     "output_type": "execute_result"
    }
   ],
   "source": [
    "(data_gen[:, 0] + data_gen[:, 1] + data_gen[:, 2]) / 3"
   ]
  },
  {
   "cell_type": "code",
   "execution_count": 8,
   "id": "079b4075",
   "metadata": {},
   "outputs": [
    {
     "data": {
      "text/plain": [
       "array(['пере-', 'с-', 'до-', 'за-', 'на-'], dtype=object)"
      ]
     },
     "execution_count": 8,
     "metadata": {},
     "output_type": "execute_result"
    }
   ],
   "source": [
    "data_gen_t[data_gen_t.columns[0]].values[np.argsort((\\\n",
    "        data_gen[:, 0] + data_gen[:, 1] + data_gen[:, 2]) / 3)]"
   ]
  },
  {
   "cell_type": "markdown",
   "id": "390ef900",
   "metadata": {},
   "source": [
    "#### Геометрическое"
   ]
  },
  {
   "cell_type": "code",
   "execution_count": 9,
   "id": "3bec438f",
   "metadata": {},
   "outputs": [
    {
     "data": {
      "text/plain": [
       "array([2.        , 1.43020457, 1.49899224, 1.21584601, 1.18844734])"
      ]
     },
     "execution_count": 9,
     "metadata": {},
     "output_type": "execute_result"
    }
   ],
   "source": [
    "((data_gen[:, 0] + 1) * (data_gen[:, 1] + 1) * (data_gen[:, 2] + 1))**(1/3)"
   ]
  },
  {
   "cell_type": "code",
   "execution_count": 10,
   "id": "e69eccff",
   "metadata": {},
   "outputs": [
    {
     "data": {
      "text/plain": [
       "array(['пере-', 'с-', 'до-', 'за-', 'на-'], dtype=object)"
      ]
     },
     "execution_count": 10,
     "metadata": {},
     "output_type": "execute_result"
    }
   ],
   "source": [
    "data_gen_t[data_gen_t.columns[0]].values[np.argsort\\\n",
    "        (((data_gen[:, 0] + 2) * (data_gen[:, 1] + 2) * (data_gen[:, 2] + 2))**(1/3))]"
   ]
  },
  {
   "cell_type": "markdown",
   "id": "62936a1d",
   "metadata": {},
   "source": [
    "#### Гармоническое"
   ]
  },
  {
   "cell_type": "code",
   "execution_count": 11,
   "id": "cb419cbd",
   "metadata": {},
   "outputs": [
    {
     "data": {
      "text/plain": [
       "array([2.        , 1.39263393, 1.45639773, 1.17447815, 1.1557377 ])"
      ]
     },
     "execution_count": 11,
     "metadata": {},
     "output_type": "execute_result"
    }
   ],
   "source": [
    "3/((data_gen[:, 0] + 1)**(-1) + (data_gen[:, 1] + 1)**(-1) + (data_gen[:, 2] + 1)**(-1))"
   ]
  },
  {
   "cell_type": "code",
   "execution_count": 12,
   "id": "e470618c",
   "metadata": {},
   "outputs": [
    {
     "data": {
      "text/plain": [
       "array(['пере-', 'с-', 'до-', 'за-', 'на-'], dtype=object)"
      ]
     },
     "execution_count": 12,
     "metadata": {},
     "output_type": "execute_result"
    }
   ],
   "source": [
    "data_gen_t[data_gen_t.columns[0]].values[np.argsort\\\n",
    "        (3/((data_gen[:, 0] + 2)**(-1) + (data_gen[:, 1] + 2)**(-1) + (data_gen[:, 2] + 2)**(-1)))]"
   ]
  },
  {
   "cell_type": "markdown",
   "id": "40928fd1",
   "metadata": {},
   "source": [
    "## Подготовка данных: частные случаи"
   ]
  },
  {
   "cell_type": "code",
   "execution_count": 13,
   "id": "541c4948",
   "metadata": {},
   "outputs": [],
   "source": [
    "table = '''Слово\tКвадратное отклонение\tLogDice-метрика\tОтносительная частота\n",
    "начитаться\t4807.82 (+)\t4.8\t21.85%\n",
    "наесться\t5721.71 (+)\t7.6\t87.06%\n",
    "допрыгаться\t6787.15 (+)\t6.8\t56.70%\n",
    "доиграться\t13793.95 (+)\t3.8\t21.11%\n",
    "засидеться\t122272.68 (+)\t3.8\t60.70%\n",
    "засмотреться\t30002.17 (+)\t3.0\t12.86%\n",
    "зачитаться\t5995.48 (+)\t2.5\t5.11%\n",
    "сговориться\t73587.34 (+)\t0.0\t10.61%\n",
    "сработаться\t3614.79 (+)\t1.3\t6.83%\n",
    "переброситься\t381.52 (-)\t-3.2\t0.88%\n",
    "переписываться\t0.79 (+)\t2.6\t38.87'''\n",
    "data_gen_t = pd.DataFrame([row.split('\\t') for row in table.split('\\n')[1:]],\\\n",
    "                        columns=[table.split('\\n')[0].split('\\t')])"
   ]
  },
  {
   "cell_type": "code",
   "execution_count": 14,
   "id": "21c1d11f",
   "metadata": {},
   "outputs": [],
   "source": [
    "data_gen = data_gen_t"
   ]
  },
  {
   "cell_type": "code",
   "execution_count": 15,
   "id": "09242244",
   "metadata": {},
   "outputs": [],
   "source": [
    "data_gen['Квадратное отклонение'] = data_gen['Квадратное отклонение'].applymap(\\\n",
    "            lambda x: -1 * float(x.split()[0]) if '-' in x.split()[1] else float(x.split()[0]))\n",
    "data_gen['LogDice-метрика'] = data_gen['LogDice-метрика'].applymap(lambda x: float(x))\n",
    "data_gen['Относительная частота'] = data_gen['Относительная частота'].applymap(lambda x:\\\n",
    "                                                                               float(x[:-1]))\n",
    "data_gen=data_gen[['Квадратное отклонение', 'LogDice-метрика', 'Относительная частота']].to_numpy()"
   ]
  },
  {
   "cell_type": "code",
   "execution_count": 16,
   "id": "b04705c9",
   "metadata": {},
   "outputs": [
    {
     "data": {
      "text/plain": [
       "array([[ 4.8078200e+03,  4.8000000e+00,  2.1850000e+01],\n",
       "       [ 5.7217100e+03,  7.6000000e+00,  8.7060000e+01],\n",
       "       [ 6.7871500e+03,  6.8000000e+00,  5.6700000e+01],\n",
       "       [ 1.3793950e+04,  3.8000000e+00,  2.1110000e+01],\n",
       "       [ 1.2227268e+05,  3.8000000e+00,  6.0700000e+01],\n",
       "       [ 3.0002170e+04,  3.0000000e+00,  1.2860000e+01],\n",
       "       [ 5.9954800e+03,  2.5000000e+00,  5.1100000e+00],\n",
       "       [ 7.3587340e+04,  0.0000000e+00,  1.0610000e+01],\n",
       "       [ 3.6147900e+03,  1.3000000e+00,  6.8300000e+00],\n",
       "       [-3.8152000e+02, -3.2000000e+00,  8.8000000e-01],\n",
       "       [ 7.9000000e-01,  2.6000000e+00,  3.8800000e+01]])"
      ]
     },
     "execution_count": 16,
     "metadata": {},
     "output_type": "execute_result"
    }
   ],
   "source": [
    "data_gen"
   ]
  },
  {
   "cell_type": "code",
   "execution_count": 17,
   "id": "69099456",
   "metadata": {},
   "outputs": [],
   "source": [
    "scaler = MinMaxScaler()\n",
    "data_gen = scaler.fit_transform(data_gen)"
   ]
  },
  {
   "cell_type": "markdown",
   "id": "d56ac0c3",
   "metadata": {},
   "source": [
    "## Подсчёт"
   ]
  },
  {
   "cell_type": "markdown",
   "id": "527a0de2",
   "metadata": {},
   "source": [
    "### Средние"
   ]
  },
  {
   "cell_type": "markdown",
   "id": "eb92d1c0",
   "metadata": {},
   "source": [
    "#### Арифметическое"
   ]
  },
  {
   "cell_type": "code",
   "execution_count": 18,
   "id": "6ba1fbb2",
   "metadata": {},
   "outputs": [
    {
     "data": {
      "text/plain": [
       "array([0.34212579, 0.68325322, 0.54402873, 0.33282068, 0.78075891,\n",
       "       0.32026792, 0.2096176 , 0.33742261, 0.17276338, 0.        ,\n",
       "       0.3267211 ])"
      ]
     },
     "execution_count": 18,
     "metadata": {},
     "output_type": "execute_result"
    }
   ],
   "source": [
    "(data_gen[:, 0] + data_gen[:, 1] + data_gen[:, 2]) / 3"
   ]
  },
  {
   "cell_type": "code",
   "execution_count": 19,
   "id": "aef998f1",
   "metadata": {},
   "outputs": [],
   "source": [
    "w = data_gen_t['Слово'].values[np.argsort((data_gen[:, 0] + data_gen[:, 1] + data_gen[:, 2]) / 3)]"
   ]
  },
  {
   "cell_type": "code",
   "execution_count": 20,
   "id": "e4bb6a20",
   "metadata": {
    "scrolled": true
   },
   "outputs": [
    {
     "name": "stdout",
     "output_type": "stream",
     "text": [
      "засидеться\n",
      "наесться\n",
      "допрыгаться\n",
      "начитаться\n",
      "сговориться\n",
      "доиграться\n",
      "переписываться\n",
      "засмотреться\n",
      "зачитаться\n",
      "сработаться\n",
      "переброситься\n"
     ]
    }
   ],
   "source": [
    "for i in range(11, 0, -1):\n",
    "    print(w[i-1][0])"
   ]
  },
  {
   "cell_type": "markdown",
   "id": "a5492990",
   "metadata": {},
   "source": [
    "#### Геометрическое"
   ]
  },
  {
   "cell_type": "code",
   "execution_count": 21,
   "id": "955b7246",
   "metadata": {},
   "outputs": [],
   "source": [
    "w = data_gen_t['Слово'].values[np.argsort(((data_gen[:, 0] + 1) * (data_gen[:, 1] + 1) * (data_gen[:, 2] + 1))**(1/3))]"
   ]
  },
  {
   "cell_type": "code",
   "execution_count": 22,
   "id": "6923473d",
   "metadata": {
    "scrolled": true
   },
   "outputs": [
    {
     "name": "stdout",
     "output_type": "stream",
     "text": [
      "засидеться\n",
      "наесться\n",
      "допрыгаться\n",
      "сговориться\n",
      "доиграться\n",
      "начитаться\n",
      "засмотреться\n",
      "переписываться\n",
      "зачитаться\n",
      "сработаться\n",
      "переброситься\n"
     ]
    }
   ],
   "source": [
    "for i in range(11, 0, -1):\n",
    "    print(w[i-1][0])"
   ]
  },
  {
   "cell_type": "markdown",
   "id": "5793e242",
   "metadata": {},
   "source": [
    "#### Гармоническое"
   ]
  },
  {
   "cell_type": "code",
   "execution_count": 23,
   "id": "d55298ea",
   "metadata": {},
   "outputs": [],
   "source": [
    "w = data_gen_t['Слово'].values[np.argsort(3/((data_gen[:, 0] + 2)**(-1) + (data_gen[:, 1] + 2)**(-1) + (data_gen[:, 2] + 2)**(-1)))]"
   ]
  },
  {
   "cell_type": "code",
   "execution_count": 24,
   "id": "b129026c",
   "metadata": {
    "scrolled": true
   },
   "outputs": [
    {
     "name": "stdout",
     "output_type": "stream",
     "text": [
      "засидеться\n",
      "наесться\n",
      "допрыгаться\n",
      "сговориться\n",
      "доиграться\n",
      "начитаться\n",
      "засмотреться\n",
      "переписываться\n",
      "зачитаться\n",
      "сработаться\n",
      "переброситься\n"
     ]
    }
   ],
   "source": [
    "for i in range(11, 0, -1):\n",
    "    print(w[i-1][0])"
   ]
  },
  {
   "cell_type": "markdown",
   "id": "ec7df20f",
   "metadata": {},
   "source": [
    "# Кластеризация"
   ]
  },
  {
   "cell_type": "markdown",
   "id": "f60d337d",
   "metadata": {},
   "source": [
    "## Общие измерения"
   ]
  },
  {
   "cell_type": "code",
   "execution_count": 25,
   "id": "74a2eff7",
   "metadata": {},
   "outputs": [],
   "source": [
    "from sklearn.cluster import DBSCAN, KMeans"
   ]
  },
  {
   "cell_type": "code",
   "execution_count": 26,
   "id": "219a1ade",
   "metadata": {},
   "outputs": [],
   "source": [
    "clustering = DBSCAN(eps=0.9, min_samples=2)"
   ]
  },
  {
   "cell_type": "code",
   "execution_count": 27,
   "id": "0e0f99b6",
   "metadata": {},
   "outputs": [],
   "source": [
    "table = '''Префиксальный компонент\tКвадратное отклонение\tLogDice-метрика\tОтносительная частота\n",
    "на-\t26195.27 (+)\t-8.2\t5.56%\n",
    "до-\t5224.4 (+)\t-8.2\t1.67%\n",
    "за-\t798.66 (+)\t-8.6\t4.04%\n",
    "с-\t1280.74 (-)\t-11.0\t4.56%\n",
    "пере-\t1409.32 (-)\t-9.1\t0.82%'''\n",
    "data_gen = pd.DataFrame([row.split('\\t') for row in table.split('\\n')[1:]],\\\n",
    "                        columns=[table.split('\\n')[0].split('\\t')])\n",
    "data_gen['Квадратное отклонение'] = data_gen['Квадратное отклонение'].applymap(\\\n",
    "            lambda x: -1 * float(x.split()[0]) if '-' in x.split()[1] else float(x.split()[0]))\n",
    "data_gen['LogDice-метрика'] = data_gen['LogDice-метрика'].applymap(lambda x: float(x))\n",
    "data_gen['Относительная частота'] = data_gen['Относительная частота'].applymap(lambda x:\\\n",
    "                                                                               float(x[:-1]))\n",
    "data_gen=data_gen[['Квадратное отклонение', 'LogDice-метрика', 'Относительная частота']].to_numpy()\n",
    "scaler = MinMaxScaler()\n",
    "data_gen = scaler.fit_transform(data_gen)"
   ]
  },
  {
   "cell_type": "code",
   "execution_count": 28,
   "id": "9d87e8f1",
   "metadata": {},
   "outputs": [
    {
     "data": {
      "text/plain": [
       "array([-1,  0,  0,  0,  0], dtype=int64)"
      ]
     },
     "execution_count": 28,
     "metadata": {},
     "output_type": "execute_result"
    }
   ],
   "source": [
    "clustering.fit_predict(data_gen)"
   ]
  },
  {
   "cell_type": "markdown",
   "id": "4a79fee9",
   "metadata": {},
   "source": [
    "## Частные случаи"
   ]
  },
  {
   "cell_type": "code",
   "execution_count": 36,
   "id": "d10dcaab",
   "metadata": {},
   "outputs": [],
   "source": [
    "table = '''Слово\tКвадратное отклонение\tLogDice-метрика\tОтносительная частота\n",
    "начитаться\t4807.82 (+)\t4.8\t21.85%\n",
    "наесться\t5721.71 (+)\t7.6\t87.06%\n",
    "допрыгаться\t6787.15 (+)\t6.8\t56.70%\n",
    "доиграться\t13793.95 (+)\t3.8\t21.11%\n",
    "засидеться\t122272.68 (+)\t3.8\t60.70%\n",
    "засмотреться\t30002.17 (+)\t3.0\t12.86%\n",
    "зачитаться\t5995.48 (+)\t2.5\t5.11%\n",
    "сговориться\t73587.34 (+)\t0.0\t10.61%\n",
    "сработаться\t3614.79 (+)\t1.3\t6.83%\n",
    "переброситься\t381.52 (-)\t-3.2\t0.88%\n",
    "переписываться\t0.79 (+)\t2.6\t38.87'''\n",
    "data_gen = pd.DataFrame([row.split('\\t') for row in table.split('\\n')[1:]],\\\n",
    "                        columns=[table.split('\\n')[0].split('\\t')])\n",
    "word = data_gen['Слово'].values\n",
    "data_gen['Квадратное отклонение'] = data_gen['Квадратное отклонение'].applymap(\\\n",
    "            lambda x: -1 * float(x.split()[0]) if '-' in x.split()[1] else float(x.split()[0]))\n",
    "data_gen['LogDice-метрика'] = data_gen['LogDice-метрика'].applymap(lambda x: float(x))\n",
    "data_gen['Относительная частота'] = data_gen['Относительная частота'].applymap(lambda x:\\\n",
    "                                                                               float(x[:-1]))\n",
    "data_gen=data_gen[['Квадратное отклонение', 'LogDice-метрика', 'Относительная частота']].to_numpy()\n",
    "scaler = MinMaxScaler()\n",
    "data_gen = scaler.fit_transform(data_gen)"
   ]
  },
  {
   "cell_type": "code",
   "execution_count": 37,
   "id": "0af46055",
   "metadata": {},
   "outputs": [],
   "source": [
    "clustering = DBSCAN(eps=0.3, min_samples=2)"
   ]
  },
  {
   "cell_type": "code",
   "execution_count": 38,
   "id": "0948a590",
   "metadata": {},
   "outputs": [
    {
     "data": {
      "text/plain": [
       "array([ 0, -1, -1,  0, -1,  0,  0, -1,  0, -1,  0], dtype=int64)"
      ]
     },
     "execution_count": 38,
     "metadata": {},
     "output_type": "execute_result"
    }
   ],
   "source": [
    "clustering.fit_predict(data_gen)"
   ]
  },
  {
   "cell_type": "code",
   "execution_count": 39,
   "id": "cf273e66",
   "metadata": {},
   "outputs": [],
   "source": [
    "clustering = DBSCAN(eps=0.5, min_samples=2)"
   ]
  },
  {
   "cell_type": "code",
   "execution_count": 40,
   "id": "440f38af",
   "metadata": {},
   "outputs": [
    {
     "data": {
      "text/plain": [
       "array([ 0,  0,  0,  0, -1,  0,  0,  0,  0,  0,  0], dtype=int64)"
      ]
     },
     "execution_count": 40,
     "metadata": {},
     "output_type": "execute_result"
    }
   ],
   "source": [
    "clustering.fit_predict(data_gen)"
   ]
  },
  {
   "cell_type": "code",
   "execution_count": 41,
   "id": "8b7ff549",
   "metadata": {},
   "outputs": [
    {
     "name": "stdout",
     "output_type": "stream",
     "text": [
      "начитаться, наесться, допрыгаться, доиграться, засмотреться, зачитаться, сговориться, сработаться, переброситься, переписываться, "
     ]
    }
   ],
   "source": [
    "for i in word[clustering.fit_predict(data_gen)==0]:\n",
    "    print(i[0], end=', ')"
   ]
  },
  {
   "cell_type": "code",
   "execution_count": 42,
   "id": "6d3dc20c",
   "metadata": {},
   "outputs": [],
   "source": [
    "for i in word[clustering.fit_predict(data_gen)==1]:\n",
    "    print(i[0], end=', ')"
   ]
  }
 ],
 "metadata": {
  "kernelspec": {
   "display_name": "Python 3",
   "language": "python",
   "name": "python3"
  },
  "language_info": {
   "codemirror_mode": {
    "name": "ipython",
    "version": 3
   },
   "file_extension": ".py",
   "mimetype": "text/x-python",
   "name": "python",
   "nbconvert_exporter": "python",
   "pygments_lexer": "ipython3",
   "version": "3.8.8"
  }
 },
 "nbformat": 4,
 "nbformat_minor": 5
}
